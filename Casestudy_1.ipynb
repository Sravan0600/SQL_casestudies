{
  "nbformat": 4,
  "nbformat_minor": 0,
  "metadata": {
    "colab": {
      "provenance": []
    },
    "kernelspec": {
      "name": "python3",
      "display_name": "Python 3"
    },
    "language_info": {
      "name": "python"
    }
  },
  "cells": [
    {
      "cell_type": "markdown",
      "source": [
        "**Install SQL**"
      ],
      "metadata": {
        "id": "ZXrgLj8o4kdl"
      }
    },
    {
      "cell_type": "code",
      "execution_count": 1,
      "metadata": {
        "colab": {
          "base_uri": "https://localhost:8080/"
        },
        "id": "rAJRF6f73g9Y",
        "outputId": "a2949acd-df4a-4a9c-9b62-f00816543996"
      },
      "outputs": [
        {
          "output_type": "stream",
          "name": "stdout",
          "text": [
            "Collecting pymysql\n",
            "  Downloading PyMySQL-1.1.1-py3-none-any.whl (44 kB)\n",
            "\u001b[2K     \u001b[90m━━━━━━━━━━━━━━━━━━━━━━━━━━━━━━━━━━━━━━━━\u001b[0m \u001b[32m45.0/45.0 kB\u001b[0m \u001b[31m1.1 MB/s\u001b[0m eta \u001b[36m0:00:00\u001b[0m\n",
            "\u001b[?25hInstalling collected packages: pymysql\n",
            "Successfully installed pymysql-1.1.1\n"
          ]
        }
      ],
      "source": [
        "!pip install pymysql"
      ]
    },
    {
      "cell_type": "markdown",
      "source": [
        "**Load Sql Extensiont**"
      ],
      "metadata": {
        "id": "tt27kIbz5UzQ"
      }
    },
    {
      "cell_type": "code",
      "source": [
        "%load_ext sql"
      ],
      "metadata": {
        "id": "EDXYOdSM4GS8"
      },
      "execution_count": 2,
      "outputs": []
    },
    {
      "cell_type": "markdown",
      "source": [
        "**Create SQLite database**"
      ],
      "metadata": {
        "id": "lhDk7YLP5YwT"
      }
    },
    {
      "cell_type": "code",
      "source": [
        "%sql sqlite://"
      ],
      "metadata": {
        "id": "375OGLQO5LF9"
      },
      "execution_count": 3,
      "outputs": []
    },
    {
      "cell_type": "code",
      "source": [
        "%%sql\n",
        "\n",
        "\n",
        "CREATE TABLE sales (\n",
        "  \"customer_id\" VARCHAR(1),\n",
        "  \"order_date\" DATE,\n",
        "  \"product_id\" INTEGER\n",
        ");\n",
        "\n",
        "INSERT INTO sales\n",
        "  (\"customer_id\", \"order_date\", \"product_id\")\n",
        "VALUES\n",
        "  ('A', '2021-01-01', '1'),\n",
        "  ('A', '2021-01-01', '2'),\n",
        "  ('A', '2021-01-07', '2'),\n",
        "  ('A', '2021-01-10', '3'),\n",
        "  ('A', '2021-01-11', '3'),\n",
        "  ('A', '2021-01-11', '3'),\n",
        "  ('B', '2021-01-01', '2'),\n",
        "  ('B', '2021-01-02', '2'),\n",
        "  ('B', '2021-01-04', '1'),\n",
        "  ('B', '2021-01-11', '1'),\n",
        "  ('B', '2021-01-16', '3'),\n",
        "  ('B', '2021-02-01', '3'),\n",
        "  ('C', '2021-01-01', '3'),\n",
        "  ('C', '2021-01-01', '3'),\n",
        "  ('C', '2021-01-07', '3');\n",
        "\n",
        "\n",
        "CREATE TABLE menu (\n",
        "  \"product_id\" INTEGER,\n",
        "  \"product_name\" VARCHAR(5),\n",
        "  \"price\" INTEGER\n",
        ");\n",
        "\n",
        "INSERT INTO menu\n",
        "  (\"product_id\", \"product_name\", \"price\")\n",
        "VALUES\n",
        "  ('1', 'sushi', '10'),\n",
        "  ('2', 'curry', '15'),\n",
        "  ('3', 'ramen', '12');\n",
        "\n",
        "\n",
        "CREATE TABLE members (\n",
        "  \"customer_id\" VARCHAR(1),\n",
        "  \"join_date\" DATE\n",
        ");\n",
        "\n",
        "INSERT INTO members\n",
        "  (\"customer_id\", \"join_date\")\n",
        "VALUES\n",
        "  ('A', '2021-01-07'),\n",
        "  ('B', '2021-01-09');\n",
        ""
      ],
      "metadata": {
        "colab": {
          "base_uri": "https://localhost:8080/"
        },
        "id": "YpM3udfr4Uft",
        "outputId": "32611a38-42fb-4fdc-cf3e-6f3f69985e65"
      },
      "execution_count": 5,
      "outputs": [
        {
          "output_type": "stream",
          "name": "stdout",
          "text": [
            " * sqlite://\n",
            "Done.\n",
            "15 rows affected.\n",
            "Done.\n",
            "3 rows affected.\n",
            "Done.\n",
            "2 rows affected.\n"
          ]
        },
        {
          "output_type": "execute_result",
          "data": {
            "text/plain": [
              "[]"
            ]
          },
          "metadata": {},
          "execution_count": 5
        }
      ]
    },
    {
      "cell_type": "code",
      "source": [
        "#1) What is the total amount each customer spent at the restaurant?\n",
        "%%sql\n",
        "with total_amt as(\n",
        "  select sales.customer_id,\n",
        "  sales.product_id,\n",
        "  menu.price from\n",
        "  sales join\n",
        "  menu on\n",
        "  sales.product_id = menu.product_id\n",
        ")\n",
        "select\n",
        "customer_id,\n",
        "sum(price) as amount\n",
        "from total_amt\n",
        "group by customer_id\n",
        "order by customer_id;"
      ],
      "metadata": {
        "colab": {
          "base_uri": "https://localhost:8080/",
          "height": 139
        },
        "id": "WlszWo1g5-Zg",
        "outputId": "e9147eb4-a83b-4f39-ce30-744ac5699b61"
      },
      "execution_count": 6,
      "outputs": [
        {
          "output_type": "stream",
          "name": "stdout",
          "text": [
            " * sqlite://\n",
            "Done.\n"
          ]
        },
        {
          "output_type": "execute_result",
          "data": {
            "text/plain": [
              "[('A', 76), ('B', 74), ('C', 36)]"
            ],
            "text/html": [
              "<table>\n",
              "    <thead>\n",
              "        <tr>\n",
              "            <th>customer_id</th>\n",
              "            <th>amount</th>\n",
              "        </tr>\n",
              "    </thead>\n",
              "    <tbody>\n",
              "        <tr>\n",
              "            <td>A</td>\n",
              "            <td>76</td>\n",
              "        </tr>\n",
              "        <tr>\n",
              "            <td>B</td>\n",
              "            <td>74</td>\n",
              "        </tr>\n",
              "        <tr>\n",
              "            <td>C</td>\n",
              "            <td>36</td>\n",
              "        </tr>\n",
              "    </tbody>\n",
              "</table>"
            ]
          },
          "metadata": {},
          "execution_count": 6
        }
      ]
    },
    {
      "cell_type": "code",
      "source": [
        "#2) How many days has each customer visited the restaurant?\n",
        "%%sql\n",
        "with no_of_days as(\n",
        "  select customer_id,\n",
        "  sales.order_date as visit_date\n",
        "  from sales\n",
        " )\n",
        " select customer_id,\n",
        " count(distinct(visit_date)) as total_days\n",
        " from no_of_days\n",
        " group by customer_id;"
      ],
      "metadata": {
        "colab": {
          "base_uri": "https://localhost:8080/",
          "height": 139
        },
        "id": "HXYA8SLh6cxP",
        "outputId": "1ea85cf0-a740-4969-9ea8-f7e268d52b7a"
      },
      "execution_count": 7,
      "outputs": [
        {
          "output_type": "stream",
          "name": "stdout",
          "text": [
            " * sqlite://\n",
            "Done.\n"
          ]
        },
        {
          "output_type": "execute_result",
          "data": {
            "text/plain": [
              "[('A', 4), ('B', 6), ('C', 2)]"
            ],
            "text/html": [
              "<table>\n",
              "    <thead>\n",
              "        <tr>\n",
              "            <th>customer_id</th>\n",
              "            <th>total_days</th>\n",
              "        </tr>\n",
              "    </thead>\n",
              "    <tbody>\n",
              "        <tr>\n",
              "            <td>A</td>\n",
              "            <td>4</td>\n",
              "        </tr>\n",
              "        <tr>\n",
              "            <td>B</td>\n",
              "            <td>6</td>\n",
              "        </tr>\n",
              "        <tr>\n",
              "            <td>C</td>\n",
              "            <td>2</td>\n",
              "        </tr>\n",
              "    </tbody>\n",
              "</table>"
            ]
          },
          "metadata": {},
          "execution_count": 7
        }
      ]
    },
    {
      "cell_type": "code",
      "source": [
        "#3. What was the first item from the menu purchased by each customer?\n",
        "%%sql\n",
        "with first_item as(\n",
        "  select sales.customer_id,\n",
        "  sales.order_date,\n",
        "  row_number() over(partition by sales.customer_id order by sales.order_date, sales.product_id) as rn,\n",
        "  menu.product_name\n",
        "  from sales\n",
        "  join menu on\n",
        "  sales.product_id=menu.product_id\n",
        ")\n",
        "select customer_id,\n",
        "product_name from first_item\n",
        "where rn =1;"
      ],
      "metadata": {
        "colab": {
          "base_uri": "https://localhost:8080/",
          "height": 139
        },
        "id": "XEeq9Eqs7YpV",
        "outputId": "335f5bec-3afd-415f-b6cd-c19d262423dd"
      },
      "execution_count": 8,
      "outputs": [
        {
          "output_type": "stream",
          "name": "stdout",
          "text": [
            " * sqlite://\n",
            "Done.\n"
          ]
        },
        {
          "output_type": "execute_result",
          "data": {
            "text/plain": [
              "[('A', 'sushi'), ('B', 'curry'), ('C', 'ramen')]"
            ],
            "text/html": [
              "<table>\n",
              "    <thead>\n",
              "        <tr>\n",
              "            <th>customer_id</th>\n",
              "            <th>product_name</th>\n",
              "        </tr>\n",
              "    </thead>\n",
              "    <tbody>\n",
              "        <tr>\n",
              "            <td>A</td>\n",
              "            <td>sushi</td>\n",
              "        </tr>\n",
              "        <tr>\n",
              "            <td>B</td>\n",
              "            <td>curry</td>\n",
              "        </tr>\n",
              "        <tr>\n",
              "            <td>C</td>\n",
              "            <td>ramen</td>\n",
              "        </tr>\n",
              "    </tbody>\n",
              "</table>"
            ]
          },
          "metadata": {},
          "execution_count": 8
        }
      ]
    },
    {
      "cell_type": "code",
      "source": [
        "#4.  What is the most purchased item on the menu and how many times was it purchased by all customers?\n",
        "%%sql\n",
        "WITH items_cte AS (\n",
        "  SELECT\n",
        "    sales.product_id,\n",
        "    menu.product_name,\n",
        "    COUNT(*) AS purchase_count\n",
        "  FROM\n",
        "    sales\n",
        "  JOIN\n",
        "   menu\n",
        "    ON sales.product_id = menu.product_id\n",
        "  GROUP BY\n",
        "    sales.product_id,\n",
        "    menu.product_name\n",
        ")\n",
        "SELECT\n",
        "  product_name,\n",
        "  purchase_count\n",
        "FROM\n",
        "  items_cte\n",
        "ORDER BY\n",
        "  purchase_count DESC\n",
        "LIMIT 1;"
      ],
      "metadata": {
        "colab": {
          "base_uri": "https://localhost:8080/",
          "height": 96
        },
        "id": "o3zim3pp7ilw",
        "outputId": "864138c3-0500-43d4-a06b-d60701bdbfc0"
      },
      "execution_count": 9,
      "outputs": [
        {
          "output_type": "stream",
          "name": "stdout",
          "text": [
            " * sqlite://\n",
            "Done.\n"
          ]
        },
        {
          "output_type": "execute_result",
          "data": {
            "text/plain": [
              "[('ramen', 8)]"
            ],
            "text/html": [
              "<table>\n",
              "    <thead>\n",
              "        <tr>\n",
              "            <th>product_name</th>\n",
              "            <th>purchase_count</th>\n",
              "        </tr>\n",
              "    </thead>\n",
              "    <tbody>\n",
              "        <tr>\n",
              "            <td>ramen</td>\n",
              "            <td>8</td>\n",
              "        </tr>\n",
              "    </tbody>\n",
              "</table>"
            ]
          },
          "metadata": {},
          "execution_count": 9
        }
      ]
    },
    {
      "cell_type": "code",
      "source": [
        "#5. Which item was the most popular for each customer?\n",
        "%%sql\n",
        "with cte as(\n",
        "  select sales.customer_id,\n",
        "  sales.product_id,\n",
        "  menu.product_name,\n",
        "  count(*) as prod_count,\n",
        "  row_number() over(partition by customer_id order by count(*) desc) as r\n",
        "  from sales\n",
        "  join menu\n",
        "  on sales.product_id = menu.product_id\n",
        "  group by sales.customer_id,sales.product_id,menu.product_name\n",
        ")\n",
        "select\n",
        "customer_id,\n",
        "product_name\n",
        "from cte where r=1;"
      ],
      "metadata": {
        "colab": {
          "base_uri": "https://localhost:8080/",
          "height": 139
        },
        "id": "kxdwx4457xNI",
        "outputId": "cd626e76-c25a-4267-8fc4-6d8ad09352f6"
      },
      "execution_count": 11,
      "outputs": [
        {
          "output_type": "stream",
          "name": "stdout",
          "text": [
            " * sqlite://\n",
            "Done.\n"
          ]
        },
        {
          "output_type": "execute_result",
          "data": {
            "text/plain": [
              "[('A', 'ramen'), ('B', 'sushi'), ('C', 'ramen')]"
            ],
            "text/html": [
              "<table>\n",
              "    <thead>\n",
              "        <tr>\n",
              "            <th>customer_id</th>\n",
              "            <th>product_name</th>\n",
              "        </tr>\n",
              "    </thead>\n",
              "    <tbody>\n",
              "        <tr>\n",
              "            <td>A</td>\n",
              "            <td>ramen</td>\n",
              "        </tr>\n",
              "        <tr>\n",
              "            <td>B</td>\n",
              "            <td>sushi</td>\n",
              "        </tr>\n",
              "        <tr>\n",
              "            <td>C</td>\n",
              "            <td>ramen</td>\n",
              "        </tr>\n",
              "    </tbody>\n",
              "</table>"
            ]
          },
          "metadata": {},
          "execution_count": 11
        }
      ]
    },
    {
      "cell_type": "code",
      "source": [
        "#6. Which item was purchased first by the customer after they became a member?\n",
        "%%sql\n",
        "WITH membership_cte AS (\n",
        "  SELECT\n",
        "    sales.customer_id,\n",
        "    sales.product_id,\n",
        "    sales.order_date,\n",
        "    members.join_date\n",
        "  FROM\n",
        "    sales\n",
        "  JOIN\n",
        "    members\n",
        "  ON\n",
        "    sales.customer_id = members.customer_id\n",
        ")\n",
        ", ranked_purchases AS (\n",
        "  SELECT\n",
        "    customer_id,\n",
        "    product_id,\n",
        "    ROW_NUMBER() OVER (PARTITION BY customer_id ORDER BY order_date) AS rn\n",
        "  FROM\n",
        "    membership_cte\n",
        "  WHERE\n",
        "    order_date >= join_date\n",
        ")\n",
        "SELECT\n",
        "  customer_id,\n",
        "  product_id\n",
        "FROM\n",
        "  ranked_purchases\n",
        "WHERE\n",
        "  rn = 1;\n"
      ],
      "metadata": {
        "colab": {
          "base_uri": "https://localhost:8080/",
          "height": 118
        },
        "id": "vspDAQJx8App",
        "outputId": "edd45ff2-50c6-4d55-aa87-31b202776553"
      },
      "execution_count": 12,
      "outputs": [
        {
          "output_type": "stream",
          "name": "stdout",
          "text": [
            " * sqlite://\n",
            "Done.\n"
          ]
        },
        {
          "output_type": "execute_result",
          "data": {
            "text/plain": [
              "[('A', 2), ('B', 1)]"
            ],
            "text/html": [
              "<table>\n",
              "    <thead>\n",
              "        <tr>\n",
              "            <th>customer_id</th>\n",
              "            <th>product_id</th>\n",
              "        </tr>\n",
              "    </thead>\n",
              "    <tbody>\n",
              "        <tr>\n",
              "            <td>A</td>\n",
              "            <td>2</td>\n",
              "        </tr>\n",
              "        <tr>\n",
              "            <td>B</td>\n",
              "            <td>1</td>\n",
              "        </tr>\n",
              "    </tbody>\n",
              "</table>"
            ]
          },
          "metadata": {},
          "execution_count": 12
        }
      ]
    },
    {
      "cell_type": "code",
      "source": [
        "#7. Which item was purchased just before the customer became a member?\n",
        "%%sql\n",
        "WITH membership_cte AS (\n",
        "  SELECT\n",
        "    sales.customer_id,\n",
        "    sales.product_id,\n",
        "    sales.order_date,\n",
        "    members.join_date\n",
        "  FROM\n",
        "    sales\n",
        "  JOIN\n",
        "    members\n",
        "  ON\n",
        "    sales.customer_id = members.customer_id\n",
        "),\n",
        "ranked_purchases AS (\n",
        "  SELECT\n",
        "    customer_id,\n",
        "    product_id,\n",
        "    order_date,\n",
        "    ROW_NUMBER() OVER (PARTITION BY customer_id ORDER BY order_date DESC) AS rn\n",
        "  FROM\n",
        "    membership_cte\n",
        "  WHERE\n",
        "    order_date < join_date\n",
        ")\n",
        "SELECT\n",
        "  customer_id,\n",
        "  product_id\n",
        "FROM\n",
        "  ranked_purchases\n",
        "WHERE\n",
        "  rn = 1;"
      ],
      "metadata": {
        "colab": {
          "base_uri": "https://localhost:8080/",
          "height": 118
        },
        "id": "evZ7DQ3y8VeL",
        "outputId": "d15af779-8c95-46d1-a16d-cbe101484076"
      },
      "execution_count": 13,
      "outputs": [
        {
          "output_type": "stream",
          "name": "stdout",
          "text": [
            " * sqlite://\n",
            "Done.\n"
          ]
        },
        {
          "output_type": "execute_result",
          "data": {
            "text/plain": [
              "[('A', 1), ('B', 1)]"
            ],
            "text/html": [
              "<table>\n",
              "    <thead>\n",
              "        <tr>\n",
              "            <th>customer_id</th>\n",
              "            <th>product_id</th>\n",
              "        </tr>\n",
              "    </thead>\n",
              "    <tbody>\n",
              "        <tr>\n",
              "            <td>A</td>\n",
              "            <td>1</td>\n",
              "        </tr>\n",
              "        <tr>\n",
              "            <td>B</td>\n",
              "            <td>1</td>\n",
              "        </tr>\n",
              "    </tbody>\n",
              "</table>"
            ]
          },
          "metadata": {},
          "execution_count": 13
        }
      ]
    },
    {
      "cell_type": "code",
      "source": [
        "# 8. What is the total items and amount spent for each member before they became a member?\n",
        "%%sql\n",
        "WITH prd_amt_cte AS (\n",
        "  SELECT\n",
        "    sales.customer_id,\n",
        "    sales.product_id,\n",
        "    sales.order_date,\n",
        "    menu.price,\n",
        "    members.join_date\n",
        "  FROM\n",
        "    sales\n",
        "  JOIN\n",
        "    menu\n",
        "  ON\n",
        "    sales.product_id = menu.product_id\n",
        "  LEFT JOIN\n",
        "    members\n",
        "  ON\n",
        "    sales.customer_id = members.customer_id\n",
        "),\n",
        "bfr_mem_cte AS (\n",
        "  SELECT\n",
        "    customer_id,\n",
        "    product_id,\n",
        "    price\n",
        "  FROM\n",
        "    prd_amt_cte\n",
        "  WHERE\n",
        "    order_date < join_date\n",
        ")\n",
        "SELECT\n",
        "  customer_id,\n",
        "  COUNT(product_id) as total_items,\n",
        "  SUM(price) as amnt_spent\n",
        "FROM\n",
        "  bfr_mem_cte\n",
        "GROUP BY\n",
        "  customer_id;\n"
      ],
      "metadata": {
        "colab": {
          "base_uri": "https://localhost:8080/",
          "height": 118
        },
        "id": "Ni0N9A-G8bVc",
        "outputId": "5299b491-4a6e-4ac2-f6be-63eb346dbc9d"
      },
      "execution_count": 14,
      "outputs": [
        {
          "output_type": "stream",
          "name": "stdout",
          "text": [
            " * sqlite://\n",
            "Done.\n"
          ]
        },
        {
          "output_type": "execute_result",
          "data": {
            "text/plain": [
              "[('A', 2, 25), ('B', 3, 40)]"
            ],
            "text/html": [
              "<table>\n",
              "    <thead>\n",
              "        <tr>\n",
              "            <th>customer_id</th>\n",
              "            <th>total_items</th>\n",
              "            <th>amnt_spent</th>\n",
              "        </tr>\n",
              "    </thead>\n",
              "    <tbody>\n",
              "        <tr>\n",
              "            <td>A</td>\n",
              "            <td>2</td>\n",
              "            <td>25</td>\n",
              "        </tr>\n",
              "        <tr>\n",
              "            <td>B</td>\n",
              "            <td>3</td>\n",
              "            <td>40</td>\n",
              "        </tr>\n",
              "    </tbody>\n",
              "</table>"
            ]
          },
          "metadata": {},
          "execution_count": 14
        }
      ]
    },
    {
      "cell_type": "code",
      "source": [
        "#9.  If each $1 spent equates to 10 points and sushi has a 2x points multiplier - how many points would each customer have?\n",
        "%%sql\n",
        "WITH Combined_cte AS (\n",
        "  SELECT\n",
        "    sales.customer_id,\n",
        "    sales.product_id,\n",
        "    menu.price,\n",
        "    menu.product_name\n",
        "  FROM\n",
        "    sales\n",
        "  JOIN\n",
        "    menu\n",
        "  ON\n",
        "    sales.product_id = menu.product_id\n",
        "),\n",
        "points_cte AS (\n",
        "  SELECT\n",
        "    customer_id,\n",
        "    CASE\n",
        "      WHEN product_name = 'sushi' THEN 2 * price * 10\n",
        "      ELSE price * 10\n",
        "    END AS points\n",
        "  FROM\n",
        "    Combined_cte\n",
        ")\n",
        "SELECT\n",
        "  customer_id,\n",
        "  SUM(points) AS total_points\n",
        "FROM\n",
        "  points_cte\n",
        "GROUP BY\n",
        "  customer_id;"
      ],
      "metadata": {
        "colab": {
          "base_uri": "https://localhost:8080/",
          "height": 139
        },
        "id": "rosj830T8rvU",
        "outputId": "b78b1bbb-ba3e-45d5-d06d-4b2bad8dd292"
      },
      "execution_count": 15,
      "outputs": [
        {
          "output_type": "stream",
          "name": "stdout",
          "text": [
            " * sqlite://\n",
            "Done.\n"
          ]
        },
        {
          "output_type": "execute_result",
          "data": {
            "text/plain": [
              "[('A', 860), ('B', 940), ('C', 360)]"
            ],
            "text/html": [
              "<table>\n",
              "    <thead>\n",
              "        <tr>\n",
              "            <th>customer_id</th>\n",
              "            <th>total_points</th>\n",
              "        </tr>\n",
              "    </thead>\n",
              "    <tbody>\n",
              "        <tr>\n",
              "            <td>A</td>\n",
              "            <td>860</td>\n",
              "        </tr>\n",
              "        <tr>\n",
              "            <td>B</td>\n",
              "            <td>940</td>\n",
              "        </tr>\n",
              "        <tr>\n",
              "            <td>C</td>\n",
              "            <td>360</td>\n",
              "        </tr>\n",
              "    </tbody>\n",
              "</table>"
            ]
          },
          "metadata": {},
          "execution_count": 15
        }
      ]
    },
    {
      "cell_type": "code",
      "source": [
        "#10. In the first week after a customer joins the program (including their join date) they earn 2x points on all items, not just sushi - how many points do customer A and B have at the end of January?\n",
        "%%sql\n",
        "WITH joining_mem AS (\n",
        "  SELECT\n",
        "    sales.customer_id,\n",
        "    sales.product_id,\n",
        "    sales.order_date,\n",
        "    menu.price,\n",
        "  \tmenu.product_name,\n",
        "    members.join_date\n",
        "  FROM\n",
        "    sales\n",
        "  JOIN\n",
        "    menu\n",
        "  ON\n",
        "    sales.product_id = menu.product_id\n",
        "  JOIN\n",
        "    members\n",
        "  ON\n",
        "    sales.customer_id = members.customer_id\n",
        "),\n",
        "points_cte AS (\n",
        "  SELECT\n",
        "    customer_id,\n",
        "    CASE\n",
        "      WHEN order_date BETWEEN join_date AND date(join_date, '+6 day') THEN 2 * price * 10\n",
        "      WHEN product_name = 'sushi' THEN 2 * price * 10\n",
        "      ELSE price * 10\n",
        "    END AS points\n",
        "  FROM\n",
        "    joining_mem\n",
        "  WHERE\n",
        "    order_date <= '2023-01-31'\n",
        ")\n",
        "SELECT\n",
        "  customer_id,\n",
        "  SUM(points) AS total_points\n",
        "FROM\n",
        "  points_cte\n",
        "WHERE\n",
        "  customer_id IN ('A', 'B')\n",
        "GROUP BY\n",
        "  customer_id;"
      ],
      "metadata": {
        "colab": {
          "base_uri": "https://localhost:8080/",
          "height": 118
        },
        "id": "bk9oQ4xA8zct",
        "outputId": "f5fdff78-84a0-417b-e021-ac876058cb15"
      },
      "execution_count": 18,
      "outputs": [
        {
          "output_type": "stream",
          "name": "stdout",
          "text": [
            " * sqlite://\n",
            "Done.\n"
          ]
        },
        {
          "output_type": "execute_result",
          "data": {
            "text/plain": [
              "[('A', 1370), ('B', 940)]"
            ],
            "text/html": [
              "<table>\n",
              "    <thead>\n",
              "        <tr>\n",
              "            <th>customer_id</th>\n",
              "            <th>total_points</th>\n",
              "        </tr>\n",
              "    </thead>\n",
              "    <tbody>\n",
              "        <tr>\n",
              "            <td>A</td>\n",
              "            <td>1370</td>\n",
              "        </tr>\n",
              "        <tr>\n",
              "            <td>B</td>\n",
              "            <td>940</td>\n",
              "        </tr>\n",
              "    </tbody>\n",
              "</table>"
            ]
          },
          "metadata": {},
          "execution_count": 18
        }
      ]
    }
  ]
}
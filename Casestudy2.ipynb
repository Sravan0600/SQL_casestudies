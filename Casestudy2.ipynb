{
  "nbformat": 4,
  "nbformat_minor": 0,
  "metadata": {
    "colab": {
      "provenance": [],
      "authorship_tag": "ABX9TyMDJgckjapGO1cVKsY9x/eP"
    },
    "kernelspec": {
      "name": "python3",
      "display_name": "Python 3"
    },
    "language_info": {
      "name": "python"
    }
  },
  "cells": [
    {
      "cell_type": "code",
      "execution_count": 1,
      "metadata": {
        "id": "OBaOOrvGEASZ",
        "colab": {
          "base_uri": "https://localhost:8080/"
        },
        "outputId": "fcf84298-b89d-4e01-b90e-feb8978101f2"
      },
      "outputs": [
        {
          "output_type": "stream",
          "name": "stdout",
          "text": [
            "Collecting pymysql\n",
            "  Downloading PyMySQL-1.1.1-py3-none-any.whl (44 kB)\n",
            "\u001b[2K     \u001b[90m━━━━━━━━━━━━━━━━━━━━━━━━━━━━━━━━━━━━━━━━\u001b[0m \u001b[32m45.0/45.0 kB\u001b[0m \u001b[31m545.1 kB/s\u001b[0m eta \u001b[36m0:00:00\u001b[0m\n",
            "\u001b[?25hInstalling collected packages: pymysql\n",
            "Successfully installed pymysql-1.1.1\n"
          ]
        }
      ],
      "source": [
        "!pip install pymysql"
      ]
    },
    {
      "cell_type": "code",
      "source": [
        "%load_ext sql"
      ],
      "metadata": {
        "id": "9EZSRc-b0Ii5"
      },
      "execution_count": 2,
      "outputs": []
    },
    {
      "cell_type": "code",
      "source": [
        "%sql sqlite://"
      ],
      "metadata": {
        "id": "Z4h4Sb3C0Lvk"
      },
      "execution_count": 3,
      "outputs": []
    },
    {
      "cell_type": "code",
      "source": [
        "%%sql\n",
        "\n",
        "DROP TABLE IF EXISTS runners;\n",
        "CREATE TABLE runners (\n",
        "  \"runner_id\" INTEGER,\n",
        "  \"registration_date\" DATE\n",
        ");\n",
        "INSERT INTO runners\n",
        "  (\"runner_id\", \"registration_date\")\n",
        "VALUES\n",
        "  (1, '2021-01-01'),\n",
        "  (2, '2021-01-03'),\n",
        "  (3, '2021-01-08'),\n",
        "  (4, '2021-01-15');\n",
        "\n",
        "\n",
        "DROP TABLE IF EXISTS customer_orders;\n",
        "CREATE TABLE customer_orders (\n",
        "  \"order_id\" INTEGER,\n",
        "  \"customer_id\" INTEGER,\n",
        "  \"pizza_id\" INTEGER,\n",
        "  \"exclusions\" VARCHAR(4),\n",
        "  \"extras\" VARCHAR(4),\n",
        "  \"order_time\" TIMESTAMP\n",
        ");\n",
        "\n",
        "INSERT INTO customer_orders\n",
        "  (\"order_id\", \"customer_id\", \"pizza_id\", \"exclusions\", \"extras\", \"order_time\")\n",
        "VALUES\n",
        "  ('1', '101', '1', '', '', '2020-01-01 18:05:02'),\n",
        "  ('2', '101', '1', '', '', '2020-01-01 19:00:52'),\n",
        "  ('3', '102', '1', '', '', '2020-01-02 23:51:23'),\n",
        "  ('3', '102', '2', '', NULL, '2020-01-02 23:51:23'),\n",
        "  ('4', '103', '1', '4', '', '2020-01-04 13:23:46'),\n",
        "  ('4', '103', '1', '4', '', '2020-01-04 13:23:46'),\n",
        "  ('4', '103', '2', '4', '', '2020-01-04 13:23:46'),\n",
        "  ('5', '104', '1', 'null', '1', '2020-01-08 21:00:29'),\n",
        "  ('6', '101', '2', 'null', 'null', '2020-01-08 21:03:13'),\n",
        "  ('7', '105', '2', 'null', '1', '2020-01-08 21:20:29'),\n",
        "  ('8', '102', '1', 'null', 'null', '2020-01-09 23:54:33'),\n",
        "  ('9', '103', '1', '4', '1, 5', '2020-01-10 11:22:59'),\n",
        "  ('10', '104', '1', 'null', 'null', '2020-01-11 18:34:49'),\n",
        "  ('10', '104', '1', '2, 6', '1, 4', '2020-01-11 18:34:49');\n",
        "\n",
        "\n",
        "DROP TABLE IF EXISTS runner_orders;\n",
        "CREATE TABLE runner_orders (\n",
        "  \"order_id\" INTEGER,\n",
        "  \"runner_id\" INTEGER,\n",
        "  \"pickup_time\" VARCHAR(19),\n",
        "  \"distance\" VARCHAR(7),\n",
        "  \"duration\" VARCHAR(10),\n",
        "  \"cancellation\" VARCHAR(23)\n",
        ");\n",
        "\n",
        "INSERT INTO runner_orders\n",
        "  (\"order_id\", \"runner_id\", \"pickup_time\", \"distance\", \"duration\", \"cancellation\")\n",
        "VALUES\n",
        "  ('1', '1', '2020-01-01 18:15:34', '20km', '32 minutes', ''),\n",
        "  ('2', '1', '2020-01-01 19:10:54', '20km', '27 minutes', ''),\n",
        "  ('3', '1', '2020-01-03 00:12:37', '13.4km', '20 mins', NULL),\n",
        "  ('4', '2', '2020-01-04 13:53:03', '23.4', '40', NULL),\n",
        "  ('5', '3', '2020-01-08 21:10:57', '10', '15', NULL),\n",
        "  ('6', '3', 'null', 'null', 'null', 'Restaurant Cancellation'),\n",
        "  ('7', '2', '2020-01-08 21:30:45', '25km', '25mins', 'null'),\n",
        "  ('8', '2', '2020-01-10 00:15:02', '23.4 km', '15 minute', 'null'),\n",
        "  ('9', '2', 'null', 'null', 'null', 'Customer Cancellation'),\n",
        "  ('10', '1', '2020-01-11 18:50:20', '10km', '10minutes', 'null');\n",
        "\n",
        "\n",
        "DROP TABLE IF EXISTS pizza_names;\n",
        "CREATE TABLE pizza_names (\n",
        "  \"pizza_id\" INTEGER,\n",
        "  \"pizza_name\" TEXT\n",
        ");\n",
        "INSERT INTO pizza_names\n",
        "  (\"pizza_id\", \"pizza_name\")\n",
        "VALUES\n",
        "  (1, 'Meatlovers'),\n",
        "  (2, 'Vegetarian');\n",
        "\n",
        "\n",
        "DROP TABLE IF EXISTS pizza_recipes;\n",
        "CREATE TABLE pizza_recipes (\n",
        "  \"pizza_id\" INTEGER,\n",
        "  \"toppings\" TEXT\n",
        ");\n",
        "INSERT INTO pizza_recipes\n",
        "  (\"pizza_id\", \"toppings\")\n",
        "VALUES\n",
        "  (1, '1, 2, 3, 4, 5, 6, 8, 10'),\n",
        "  (2, '4, 6, 7, 9, 11, 12');\n",
        "\n",
        "\n",
        "DROP TABLE IF EXISTS pizza_toppings;\n",
        "CREATE TABLE pizza_toppings (\n",
        "  \"topping_id\" INTEGER,\n",
        "  \"topping_name\" TEXT\n",
        ");\n",
        "INSERT INTO pizza_toppings\n",
        "  (\"topping_id\", \"topping_name\")\n",
        "VALUES\n",
        "  (1, 'Bacon'),\n",
        "  (2, 'BBQ Sauce'),\n",
        "  (3, 'Beef'),\n",
        "  (4, 'Cheese'),\n",
        "  (5, 'Chicken'),\n",
        "  (6, 'Mushrooms'),\n",
        "  (7, 'Onions'),\n",
        "  (8, 'Pepperoni'),\n",
        "  (9, 'Peppers'),\n",
        "  (10, 'Salami'),\n",
        "  (11, 'Tomatoes'),\n",
        "  (12, 'Tomato Sauce');"
      ],
      "metadata": {
        "colab": {
          "base_uri": "https://localhost:8080/"
        },
        "id": "hW6Ie9WA0PKC",
        "outputId": "272348e1-174a-47b9-b28b-a288c4bf3177"
      },
      "execution_count": 4,
      "outputs": [
        {
          "output_type": "stream",
          "name": "stdout",
          "text": [
            " * sqlite://\n",
            "Done.\n",
            "Done.\n",
            "4 rows affected.\n",
            "Done.\n",
            "Done.\n",
            "14 rows affected.\n",
            "Done.\n",
            "Done.\n",
            "10 rows affected.\n",
            "Done.\n",
            "Done.\n",
            "2 rows affected.\n",
            "Done.\n",
            "Done.\n",
            "2 rows affected.\n",
            "Done.\n",
            "Done.\n",
            "12 rows affected.\n"
          ]
        },
        {
          "output_type": "execute_result",
          "data": {
            "text/plain": [
              "[]"
            ]
          },
          "metadata": {},
          "execution_count": 4
        }
      ]
    },
    {
      "cell_type": "code",
      "source": [
        "#1. How many pizzas were ordered?\n",
        "%%sql\n",
        "select count(*) from customer_orders;"
      ],
      "metadata": {
        "colab": {
          "base_uri": "https://localhost:8080/",
          "height": 97
        },
        "id": "mleVkSld2bfx",
        "outputId": "f07bec0d-34ba-4334-dab6-27da72492f19"
      },
      "execution_count": null,
      "outputs": [
        {
          "output_type": "stream",
          "name": "stdout",
          "text": [
            " * sqlite://\n",
            "Done.\n"
          ]
        },
        {
          "output_type": "execute_result",
          "data": {
            "text/plain": [
              "[(14,)]"
            ],
            "text/html": [
              "<table>\n",
              "    <thead>\n",
              "        <tr>\n",
              "            <th>count(*)</th>\n",
              "        </tr>\n",
              "    </thead>\n",
              "    <tbody>\n",
              "        <tr>\n",
              "            <td>14</td>\n",
              "        </tr>\n",
              "    </tbody>\n",
              "</table>"
            ]
          },
          "metadata": {},
          "execution_count": 6
        }
      ]
    },
    {
      "cell_type": "code",
      "source": [
        "#2. How many unique customer orders were made?\n",
        "%%sql\n",
        "select count(distinct(order_id)) from customer_orders;"
      ],
      "metadata": {
        "colab": {
          "base_uri": "https://localhost:8080/",
          "height": 97
        },
        "id": "mdzR044N2j7p",
        "outputId": "12b3cea9-0757-41c0-ef02-d35b41683137"
      },
      "execution_count": null,
      "outputs": [
        {
          "output_type": "stream",
          "name": "stdout",
          "text": [
            " * sqlite://\n",
            "Done.\n"
          ]
        },
        {
          "output_type": "execute_result",
          "data": {
            "text/plain": [
              "[(10,)]"
            ],
            "text/html": [
              "<table>\n",
              "    <thead>\n",
              "        <tr>\n",
              "            <th>count(distinct(order_id))</th>\n",
              "        </tr>\n",
              "    </thead>\n",
              "    <tbody>\n",
              "        <tr>\n",
              "            <td>10</td>\n",
              "        </tr>\n",
              "    </tbody>\n",
              "</table>"
            ]
          },
          "metadata": {},
          "execution_count": 7
        }
      ]
    },
    {
      "cell_type": "code",
      "source": [
        "#3. How many successful orders were delivered by each runner?\n",
        "%%sql\n",
        "select runner_id, count(*) from runner_orders where cancellation is null group by runner_id;"
      ],
      "metadata": {
        "colab": {
          "base_uri": "https://localhost:8080/",
          "height": 140
        },
        "id": "fcT4-nju3N1z",
        "outputId": "417bf21d-a4e3-4e61-d660-d1eeb6ca4df1"
      },
      "execution_count": null,
      "outputs": [
        {
          "output_type": "stream",
          "name": "stdout",
          "text": [
            " * sqlite://\n",
            "Done.\n"
          ]
        },
        {
          "output_type": "execute_result",
          "data": {
            "text/plain": [
              "[(1, 1), (2, 1), (3, 1)]"
            ],
            "text/html": [
              "<table>\n",
              "    <thead>\n",
              "        <tr>\n",
              "            <th>runner_id</th>\n",
              "            <th>count(*)</th>\n",
              "        </tr>\n",
              "    </thead>\n",
              "    <tbody>\n",
              "        <tr>\n",
              "            <td>1</td>\n",
              "            <td>1</td>\n",
              "        </tr>\n",
              "        <tr>\n",
              "            <td>2</td>\n",
              "            <td>1</td>\n",
              "        </tr>\n",
              "        <tr>\n",
              "            <td>3</td>\n",
              "            <td>1</td>\n",
              "        </tr>\n",
              "    </tbody>\n",
              "</table>"
            ]
          },
          "metadata": {},
          "execution_count": 9
        }
      ]
    },
    {
      "cell_type": "code",
      "source": [
        "#4. How many of each type of pizza was delivered?\n",
        "%%sql\n",
        "with succ_delivery as(\n",
        "  select runner_orders.order_id,\n",
        "  customer_orders.pizza_id,\n",
        "  runner_orders.cancellation,\n",
        "  pizza_names.pizza_name\n",
        "  from runner_orders\n",
        "  inner join customer_orders\n",
        "  on runner_orders.order_id = customer_orders.order_id\n",
        "  inner join pizza_names\n",
        "  on pizza_names.pizza_id = customer_orders.pizza_id\n",
        ")\n",
        "select pizza_name, count(*) from succ_delivery where cancellation is null group by pizza_name;"
      ],
      "metadata": {
        "colab": {
          "base_uri": "https://localhost:8080/",
          "height": 119
        },
        "id": "gGErxtLQ4Dcy",
        "outputId": "61a70906-31a9-45b8-aa20-11ab7769e566"
      },
      "execution_count": null,
      "outputs": [
        {
          "output_type": "stream",
          "name": "stdout",
          "text": [
            " * sqlite://\n",
            "Done.\n"
          ]
        },
        {
          "output_type": "execute_result",
          "data": {
            "text/plain": [
              "[('Meatlovers', 4), ('Vegetarian', 2)]"
            ],
            "text/html": [
              "<table>\n",
              "    <thead>\n",
              "        <tr>\n",
              "            <th>pizza_name</th>\n",
              "            <th>count(*)</th>\n",
              "        </tr>\n",
              "    </thead>\n",
              "    <tbody>\n",
              "        <tr>\n",
              "            <td>Meatlovers</td>\n",
              "            <td>4</td>\n",
              "        </tr>\n",
              "        <tr>\n",
              "            <td>Vegetarian</td>\n",
              "            <td>2</td>\n",
              "        </tr>\n",
              "    </tbody>\n",
              "</table>"
            ]
          },
          "metadata": {},
          "execution_count": 11
        }
      ]
    },
    {
      "cell_type": "code",
      "source": [
        "#5. How many Vegetarian and Meatlovers were ordered by each customer?\n",
        "%%sql\n",
        "with pizza_count as(\n",
        "  select customer_orders.customer_id,\n",
        "  pizza_names.pizza_name\n",
        "  from customer_orders\n",
        "  join pizza_names on pizza_names.pizza_id = customer_orders.pizza_id\n",
        ")\n",
        "select customer_id, pizza_name, count(pizza_name) from pizza_count group by customer_id, pizza_name;"
      ],
      "metadata": {
        "colab": {
          "base_uri": "https://localhost:8080/",
          "height": 247
        },
        "id": "4zYsEpkw6DOK",
        "outputId": "df443df6-839d-44ee-8656-3b6a8a6d0edb"
      },
      "execution_count": null,
      "outputs": [
        {
          "output_type": "stream",
          "name": "stdout",
          "text": [
            " * sqlite://\n",
            "Done.\n"
          ]
        },
        {
          "output_type": "execute_result",
          "data": {
            "text/plain": [
              "[(101, 'Meatlovers', 2),\n",
              " (101, 'Vegetarian', 1),\n",
              " (102, 'Meatlovers', 2),\n",
              " (102, 'Vegetarian', 1),\n",
              " (103, 'Meatlovers', 3),\n",
              " (103, 'Vegetarian', 1),\n",
              " (104, 'Meatlovers', 3),\n",
              " (105, 'Vegetarian', 1)]"
            ],
            "text/html": [
              "<table>\n",
              "    <thead>\n",
              "        <tr>\n",
              "            <th>customer_id</th>\n",
              "            <th>pizza_name</th>\n",
              "            <th>count(pizza_name)</th>\n",
              "        </tr>\n",
              "    </thead>\n",
              "    <tbody>\n",
              "        <tr>\n",
              "            <td>101</td>\n",
              "            <td>Meatlovers</td>\n",
              "            <td>2</td>\n",
              "        </tr>\n",
              "        <tr>\n",
              "            <td>101</td>\n",
              "            <td>Vegetarian</td>\n",
              "            <td>1</td>\n",
              "        </tr>\n",
              "        <tr>\n",
              "            <td>102</td>\n",
              "            <td>Meatlovers</td>\n",
              "            <td>2</td>\n",
              "        </tr>\n",
              "        <tr>\n",
              "            <td>102</td>\n",
              "            <td>Vegetarian</td>\n",
              "            <td>1</td>\n",
              "        </tr>\n",
              "        <tr>\n",
              "            <td>103</td>\n",
              "            <td>Meatlovers</td>\n",
              "            <td>3</td>\n",
              "        </tr>\n",
              "        <tr>\n",
              "            <td>103</td>\n",
              "            <td>Vegetarian</td>\n",
              "            <td>1</td>\n",
              "        </tr>\n",
              "        <tr>\n",
              "            <td>104</td>\n",
              "            <td>Meatlovers</td>\n",
              "            <td>3</td>\n",
              "        </tr>\n",
              "        <tr>\n",
              "            <td>105</td>\n",
              "            <td>Vegetarian</td>\n",
              "            <td>1</td>\n",
              "        </tr>\n",
              "    </tbody>\n",
              "</table>"
            ]
          },
          "metadata": {},
          "execution_count": 14
        }
      ]
    },
    {
      "cell_type": "code",
      "source": [
        "#6. What was the maximum number of pizzas delivered in a single order?\n",
        "%%sql\n",
        "with pizza_count as(\n",
        "  select customer_orders.order_id,\n",
        "  count(customer_orders.pizza_id) as pizza_count\n",
        "  from customer_orders\n",
        "  group by customer_orders.order_id\n",
        ")\n",
        "select max(pizza_count) from pizza_count;\n"
      ],
      "metadata": {
        "id": "38m6YM9C7VZq",
        "colab": {
          "base_uri": "https://localhost:8080/",
          "height": 97
        },
        "outputId": "fe53ae9f-a2e1-4865-e7c4-6f554ab544c8"
      },
      "execution_count": 10,
      "outputs": [
        {
          "output_type": "stream",
          "name": "stdout",
          "text": [
            " * sqlite://\n",
            "Done.\n"
          ]
        },
        {
          "output_type": "execute_result",
          "data": {
            "text/plain": [
              "[(3,)]"
            ],
            "text/html": [
              "<table>\n",
              "    <thead>\n",
              "        <tr>\n",
              "            <th>max(pizza_count)</th>\n",
              "        </tr>\n",
              "    </thead>\n",
              "    <tbody>\n",
              "        <tr>\n",
              "            <td>3</td>\n",
              "        </tr>\n",
              "    </tbody>\n",
              "</table>"
            ]
          },
          "metadata": {},
          "execution_count": 10
        }
      ]
    },
    {
      "cell_type": "code",
      "source": [
        "#7. For each customer, how many delivered pizzas had at least 1 change and how many had no changes?\n",
        "%%sql\n",
        "with changes as(\n",
        "  select customer_orders.order_id,\n",
        "  customer_orders.customer_id,\n",
        "  customer_orders.pizza_id,\n",
        "  case\n",
        "    when exclusions is null or exclusions = '' then 0\n",
        "    else 1\n",
        "    end as exclusions_change,\n",
        "  case\n",
        "    when extras is null or extras = '' then 0\n",
        "    else 1\n",
        "  end as extras_change\n",
        "  from customer_orders\n",
        "  join runner_orders\n",
        "  on runner_orders.order_id = customer_orders.order_id\n",
        "  where cancellation is null\n",
        ")\n",
        "select order_id,\n",
        "customer_id,\n",
        "sum(exclusions_change) as exclusions_change,\n",
        "sum(extras_change) as extras_change\n",
        "from changes\n",
        "group by order_id, customer_id;"
      ],
      "metadata": {
        "colab": {
          "base_uri": "https://localhost:8080/",
          "height": 140
        },
        "id": "A7_Q7dYnGtS0",
        "outputId": "601059b9-58ff-470e-f914-bfbb0945c0ba"
      },
      "execution_count": 13,
      "outputs": [
        {
          "output_type": "stream",
          "name": "stdout",
          "text": [
            " * sqlite://\n",
            "Done.\n"
          ]
        },
        {
          "output_type": "execute_result",
          "data": {
            "text/plain": [
              "[(3, 102, 0, 0), (4, 103, 3, 0), (5, 104, 1, 1)]"
            ],
            "text/html": [
              "<table>\n",
              "    <thead>\n",
              "        <tr>\n",
              "            <th>order_id</th>\n",
              "            <th>customer_id</th>\n",
              "            <th>exclusions_change</th>\n",
              "            <th>extras_change</th>\n",
              "        </tr>\n",
              "    </thead>\n",
              "    <tbody>\n",
              "        <tr>\n",
              "            <td>3</td>\n",
              "            <td>102</td>\n",
              "            <td>0</td>\n",
              "            <td>0</td>\n",
              "        </tr>\n",
              "        <tr>\n",
              "            <td>4</td>\n",
              "            <td>103</td>\n",
              "            <td>3</td>\n",
              "            <td>0</td>\n",
              "        </tr>\n",
              "        <tr>\n",
              "            <td>5</td>\n",
              "            <td>104</td>\n",
              "            <td>1</td>\n",
              "            <td>1</td>\n",
              "        </tr>\n",
              "    </tbody>\n",
              "</table>"
            ]
          },
          "metadata": {},
          "execution_count": 13
        }
      ]
    },
    {
      "cell_type": "code",
      "source": [
        "#8. How many pizzas were delivered that had both exclusions and extras?\n",
        "%%sql\n",
        "WITH changes AS (\n",
        "  SELECT\n",
        "    customer_orders.order_id,\n",
        "    customer_orders.customer_id,\n",
        "    customer_orders.pizza_id\n",
        "  FROM customer_orders\n",
        "  JOIN runner_orders ON customer_orders.order_id = runner_orders.order_id\n",
        "  WHERE cancellation IS NULL\n",
        "    AND customer_orders.exclusions IS NOT NULL\n",
        "    AND customer_orders.extras IS NOT NULL\n",
        ")\n",
        "SELECT\n",
        "  order_id,\n",
        "  customer_id,\n",
        "  COUNT(pizza_id) AS pizza_count\n",
        "FROM changes\n",
        "GROUP BY order_id, customer_id;\n"
      ],
      "metadata": {
        "colab": {
          "base_uri": "https://localhost:8080/",
          "height": 140
        },
        "id": "vvbM9S90IjPm",
        "outputId": "e24642e8-4fe5-4a7a-c8ed-5bdcc6fee3da"
      },
      "execution_count": 15,
      "outputs": [
        {
          "output_type": "stream",
          "name": "stdout",
          "text": [
            " * sqlite://\n",
            "Done.\n"
          ]
        },
        {
          "output_type": "execute_result",
          "data": {
            "text/plain": [
              "[(3, 102, 1), (4, 103, 3), (5, 104, 1)]"
            ],
            "text/html": [
              "<table>\n",
              "    <thead>\n",
              "        <tr>\n",
              "            <th>order_id</th>\n",
              "            <th>customer_id</th>\n",
              "            <th>pizza_count</th>\n",
              "        </tr>\n",
              "    </thead>\n",
              "    <tbody>\n",
              "        <tr>\n",
              "            <td>3</td>\n",
              "            <td>102</td>\n",
              "            <td>1</td>\n",
              "        </tr>\n",
              "        <tr>\n",
              "            <td>4</td>\n",
              "            <td>103</td>\n",
              "            <td>3</td>\n",
              "        </tr>\n",
              "        <tr>\n",
              "            <td>5</td>\n",
              "            <td>104</td>\n",
              "            <td>1</td>\n",
              "        </tr>\n",
              "    </tbody>\n",
              "</table>"
            ]
          },
          "metadata": {},
          "execution_count": 15
        }
      ]
    },
    {
      "cell_type": "code",
      "source": [
        "#9. What was the total volume of pizzas ordered for each hour of the day?\n",
        "%%sql\n",
        "\n",
        "WITH hour_wise_count AS (\n",
        "  SELECT\n",
        "    customer_orders.order_id,\n",
        "    customer_orders.pizza_id,\n",
        "    strftime('%H', order_time) AS hour_wise_time\n",
        "  FROM customer_orders\n",
        ")\n",
        "SELECT\n",
        "  hour_wise_time,\n",
        "  COUNT(pizza_id) AS pizza_count\n",
        "FROM hour_wise_count\n",
        "GROUP BY hour_wise_time\n",
        "ORDER BY hour_wise_time;\n"
      ],
      "metadata": {
        "colab": {
          "base_uri": "https://localhost:8080/",
          "height": 204
        },
        "id": "YQS1TSgrKerB",
        "outputId": "150e27f1-e56f-4057-b10b-da85c532a02e"
      },
      "execution_count": 21,
      "outputs": [
        {
          "output_type": "stream",
          "name": "stdout",
          "text": [
            " * sqlite://\n",
            "Done.\n"
          ]
        },
        {
          "output_type": "execute_result",
          "data": {
            "text/plain": [
              "[('11', 1), ('13', 3), ('18', 3), ('19', 1), ('21', 3), ('23', 3)]"
            ],
            "text/html": [
              "<table>\n",
              "    <thead>\n",
              "        <tr>\n",
              "            <th>hour_wise_time</th>\n",
              "            <th>pizza_count</th>\n",
              "        </tr>\n",
              "    </thead>\n",
              "    <tbody>\n",
              "        <tr>\n",
              "            <td>11</td>\n",
              "            <td>1</td>\n",
              "        </tr>\n",
              "        <tr>\n",
              "            <td>13</td>\n",
              "            <td>3</td>\n",
              "        </tr>\n",
              "        <tr>\n",
              "            <td>18</td>\n",
              "            <td>3</td>\n",
              "        </tr>\n",
              "        <tr>\n",
              "            <td>19</td>\n",
              "            <td>1</td>\n",
              "        </tr>\n",
              "        <tr>\n",
              "            <td>21</td>\n",
              "            <td>3</td>\n",
              "        </tr>\n",
              "        <tr>\n",
              "            <td>23</td>\n",
              "            <td>3</td>\n",
              "        </tr>\n",
              "    </tbody>\n",
              "</table>"
            ]
          },
          "metadata": {},
          "execution_count": 21
        }
      ]
    },
    {
      "cell_type": "code",
      "source": [
        "#10. What was the volume of orders for each day of the week?\n",
        "%%sql\n",
        "WITH day_wise_count AS (\n",
        "  SELECT\n",
        "    customer_orders.order_id,\n",
        "    customer_orders.pizza_id,\n",
        "    strftime('%w', order_time) AS day_wise_time\n",
        "  FROM customer_orders\n",
        ")\n",
        "SELECT\n",
        "  CASE\n",
        "    WHEN day_wise_time = '0' THEN 'Sunday'\n",
        "    WHEN day_wise_time = '1' THEN 'Monday'\n",
        "    WHEN day_wise_time = '2' THEN 'Tuesday'\n",
        "    WHEN day_wise_time = '3' THEN 'Wednesday'\n",
        "    WHEN day_wise_time = '4' THEN 'Thursday'\n",
        "    WHEN day_wise_time = '5' THEN 'Friday'\n",
        "    WHEN day_wise_time = '6' THEN 'Saturday'\n",
        "  END AS day_name,\n",
        "  COUNT(pizza_id) AS pizza_count\n",
        "FROM day_wise_count\n",
        "GROUP BY day_name\n",
        "ORDER BY day_wise_time;\n"
      ],
      "metadata": {
        "colab": {
          "base_uri": "https://localhost:8080/",
          "height": 162
        },
        "id": "InIcn_8vNybh",
        "outputId": "d2ee90de-a1c5-4f96-fcb4-0e61af532818"
      },
      "execution_count": 27,
      "outputs": [
        {
          "output_type": "stream",
          "name": "stdout",
          "text": [
            " * sqlite://\n",
            "Done.\n"
          ]
        },
        {
          "output_type": "execute_result",
          "data": {
            "text/plain": [
              "[('Wednesday', 5), ('Thursday', 3), ('Friday', 1), ('Saturday', 5)]"
            ],
            "text/html": [
              "<table>\n",
              "    <thead>\n",
              "        <tr>\n",
              "            <th>day_name</th>\n",
              "            <th>pizza_count</th>\n",
              "        </tr>\n",
              "    </thead>\n",
              "    <tbody>\n",
              "        <tr>\n",
              "            <td>Wednesday</td>\n",
              "            <td>5</td>\n",
              "        </tr>\n",
              "        <tr>\n",
              "            <td>Thursday</td>\n",
              "            <td>3</td>\n",
              "        </tr>\n",
              "        <tr>\n",
              "            <td>Friday</td>\n",
              "            <td>1</td>\n",
              "        </tr>\n",
              "        <tr>\n",
              "            <td>Saturday</td>\n",
              "            <td>5</td>\n",
              "        </tr>\n",
              "    </tbody>\n",
              "</table>"
            ]
          },
          "metadata": {},
          "execution_count": 27
        }
      ]
    },
    {
      "cell_type": "markdown",
      "source": [
        "# **Runner and Customer Experience**"
      ],
      "metadata": {
        "id": "4PtS6x9WP6UN"
      }
    },
    {
      "cell_type": "code",
      "source": [
        "#1. How many runners signed up for each 1 week period? (i.e. week starts 2021-01-01)\n",
        "%%sql\n",
        "with weekly_runn_regs as(\n",
        "  select\n",
        "  runners.runner_id,\n",
        "  strftime('%W', registration_date) AS week_of_reg\n",
        "  from runners\n",
        ")\n",
        "select\n",
        "week_of_reg,\n",
        "count(runner_id)\n",
        "from weekly_runn_regs\n",
        "group by week_of_reg\n",
        "order by week_of_reg;"
      ],
      "metadata": {
        "colab": {
          "base_uri": "https://localhost:8080/",
          "height": 140
        },
        "id": "eA7LOVWeN6UR",
        "outputId": "8eb68c15-9a29-4cfb-e181-17db8e1a5ab1"
      },
      "execution_count": 7,
      "outputs": [
        {
          "output_type": "stream",
          "name": "stdout",
          "text": [
            " * sqlite://\n",
            "Done.\n"
          ]
        },
        {
          "output_type": "execute_result",
          "data": {
            "text/plain": [
              "[('00', 2), ('01', 1), ('02', 1)]"
            ],
            "text/html": [
              "<table>\n",
              "    <thead>\n",
              "        <tr>\n",
              "            <th>week_of_reg</th>\n",
              "            <th>count(runner_id)</th>\n",
              "        </tr>\n",
              "    </thead>\n",
              "    <tbody>\n",
              "        <tr>\n",
              "            <td>00</td>\n",
              "            <td>2</td>\n",
              "        </tr>\n",
              "        <tr>\n",
              "            <td>01</td>\n",
              "            <td>1</td>\n",
              "        </tr>\n",
              "        <tr>\n",
              "            <td>02</td>\n",
              "            <td>1</td>\n",
              "        </tr>\n",
              "    </tbody>\n",
              "</table>"
            ]
          },
          "metadata": {},
          "execution_count": 7
        }
      ]
    },
    {
      "cell_type": "code",
      "source": [
        "#2.What was the average time in minutes it took for each runner to arrive at the Pizza Runner HQ to pickup the order?\n",
        "%%sql\n",
        "with time_taken as(\n",
        "  select customer_orders.order_time,\n",
        "  customer_orders.order_id,\n",
        "  runner_orders.runner_id,\n",
        "  runner_orders.pickup_time,\n",
        "  (julianday(runner_orders.pickup_time) - julianday(customer_orders.order_time)) * 1440 AS time_taken_minutes\n",
        "  from customer_orders\n",
        "  join\n",
        "  runner_orders\n",
        "  on customer_orders.order_id = runner_orders.order_id\n",
        ")\n",
        "select\n",
        "order_id,\n",
        "runner_id,\n",
        "avg(time_taken_minutes) as avg_time\n",
        "from time_taken\n",
        "group by order_id\n",
        "order by order_id;"
      ],
      "metadata": {
        "colab": {
          "base_uri": "https://localhost:8080/",
          "height": 290
        },
        "id": "VSFP7tL2N5dl",
        "outputId": "5f326846-ddc7-48aa-cbb2-dea7f5b1e094"
      },
      "execution_count": 10,
      "outputs": [
        {
          "output_type": "stream",
          "name": "stdout",
          "text": [
            " * sqlite://\n",
            "Done.\n"
          ]
        },
        {
          "output_type": "execute_result",
          "data": {
            "text/plain": [
              "[(1, 1, 10.533333197236061),\n",
              " (2, 1, 10.033333897590637),\n",
              " (3, 1, 21.233333498239517),\n",
              " (4, 2, 29.283332750201225),\n",
              " (5, 3, 10.466666892170906),\n",
              " (6, 3, None),\n",
              " (7, 2, 10.266666635870934),\n",
              " (8, 2, 20.483333542943),\n",
              " (9, 2, None),\n",
              " (10, 1, 15.516666322946548)]"
            ],
            "text/html": [
              "<table>\n",
              "    <thead>\n",
              "        <tr>\n",
              "            <th>order_id</th>\n",
              "            <th>runner_id</th>\n",
              "            <th>avg_time</th>\n",
              "        </tr>\n",
              "    </thead>\n",
              "    <tbody>\n",
              "        <tr>\n",
              "            <td>1</td>\n",
              "            <td>1</td>\n",
              "            <td>10.533333197236061</td>\n",
              "        </tr>\n",
              "        <tr>\n",
              "            <td>2</td>\n",
              "            <td>1</td>\n",
              "            <td>10.033333897590637</td>\n",
              "        </tr>\n",
              "        <tr>\n",
              "            <td>3</td>\n",
              "            <td>1</td>\n",
              "            <td>21.233333498239517</td>\n",
              "        </tr>\n",
              "        <tr>\n",
              "            <td>4</td>\n",
              "            <td>2</td>\n",
              "            <td>29.283332750201225</td>\n",
              "        </tr>\n",
              "        <tr>\n",
              "            <td>5</td>\n",
              "            <td>3</td>\n",
              "            <td>10.466666892170906</td>\n",
              "        </tr>\n",
              "        <tr>\n",
              "            <td>6</td>\n",
              "            <td>3</td>\n",
              "            <td>None</td>\n",
              "        </tr>\n",
              "        <tr>\n",
              "            <td>7</td>\n",
              "            <td>2</td>\n",
              "            <td>10.266666635870934</td>\n",
              "        </tr>\n",
              "        <tr>\n",
              "            <td>8</td>\n",
              "            <td>2</td>\n",
              "            <td>20.483333542943</td>\n",
              "        </tr>\n",
              "        <tr>\n",
              "            <td>9</td>\n",
              "            <td>2</td>\n",
              "            <td>None</td>\n",
              "        </tr>\n",
              "        <tr>\n",
              "            <td>10</td>\n",
              "            <td>1</td>\n",
              "            <td>15.516666322946548</td>\n",
              "        </tr>\n",
              "    </tbody>\n",
              "</table>"
            ]
          },
          "metadata": {},
          "execution_count": 10
        }
      ]
    },
    {
      "cell_type": "code",
      "source": [
        "#3. Is there any relationship between the number of pizzas and how long the order takes to prepare?\n",
        "%%sql\n",
        "with num_piz as(\n",
        "  select customer_orders.order_id,\n",
        "  count(customer_orders.pizza_id) as pizza_count,\n",
        "  (julianday(runner_orders.pickup_time) - julianday(customer_orders.order_time)) * 1440 AS time_taken_minutes\n",
        "  from customer_orders\n",
        "  join\n",
        "  runner_orders\n",
        "  on customer_orders.order_id = runner_orders.order_id\n",
        "  group by customer_orders.order_id\n",
        ")\n",
        "select pizza_count,\n",
        "avg(time_taken_minutes) as avg_time\n",
        "from num_piz\n",
        "group by pizza_count\n",
        "order by pizza_count;"
      ],
      "metadata": {
        "colab": {
          "base_uri": "https://localhost:8080/",
          "height": 140
        },
        "id": "NDdyDp2Hzz3j",
        "outputId": "850e8d40-a15c-44a8-c092-d3f8e3a621b5"
      },
      "execution_count": 11,
      "outputs": [
        {
          "output_type": "stream",
          "name": "stdout",
          "text": [
            " * sqlite://\n",
            "Done.\n"
          ]
        },
        {
          "output_type": "execute_result",
          "data": {
            "text/plain": [
              "[(1, 12.356666833162308), (2, 18.374999910593033), (3, 29.283332750201225)]"
            ],
            "text/html": [
              "<table>\n",
              "    <thead>\n",
              "        <tr>\n",
              "            <th>pizza_count</th>\n",
              "            <th>avg_time</th>\n",
              "        </tr>\n",
              "    </thead>\n",
              "    <tbody>\n",
              "        <tr>\n",
              "            <td>1</td>\n",
              "            <td>12.356666833162308</td>\n",
              "        </tr>\n",
              "        <tr>\n",
              "            <td>2</td>\n",
              "            <td>18.374999910593033</td>\n",
              "        </tr>\n",
              "        <tr>\n",
              "            <td>3</td>\n",
              "            <td>29.283332750201225</td>\n",
              "        </tr>\n",
              "    </tbody>\n",
              "</table>"
            ]
          },
          "metadata": {},
          "execution_count": 11
        }
      ]
    },
    {
      "cell_type": "code",
      "source": [
        "#4.What was the average distance travelled for each customer?\n",
        "%%sql\n",
        "with dist_trvl as\n",
        "(\n",
        "  select customer_orders.customer_id,\n",
        "  runner_orders.distance\n",
        "  from customer_orders\n",
        "  join\n",
        "  runner_orders\n",
        "  on customer_orders.order_id = runner_orders.order_id\n",
        ")\n",
        "select\n",
        "customer_id,\n",
        "avg(distance) as avg_dist_travelled\n",
        "from dist_trvl\n",
        "group by customer_id\n",
        "order by customer_id;"
      ],
      "metadata": {
        "colab": {
          "base_uri": "https://localhost:8080/",
          "height": 183
        },
        "id": "QSMJMQwT12td",
        "outputId": "de5d74a1-abef-4749-d164-fc38fa77353f"
      },
      "execution_count": 12,
      "outputs": [
        {
          "output_type": "stream",
          "name": "stdout",
          "text": [
            " * sqlite://\n",
            "Done.\n"
          ]
        },
        {
          "output_type": "execute_result",
          "data": {
            "text/plain": [
              "[(101, 13.333333333333334),\n",
              " (102, 16.733333333333334),\n",
              " (103, 17.549999999999997),\n",
              " (104, 10.0),\n",
              " (105, 25.0)]"
            ],
            "text/html": [
              "<table>\n",
              "    <thead>\n",
              "        <tr>\n",
              "            <th>customer_id</th>\n",
              "            <th>avg_dist_travelled</th>\n",
              "        </tr>\n",
              "    </thead>\n",
              "    <tbody>\n",
              "        <tr>\n",
              "            <td>101</td>\n",
              "            <td>13.333333333333334</td>\n",
              "        </tr>\n",
              "        <tr>\n",
              "            <td>102</td>\n",
              "            <td>16.733333333333334</td>\n",
              "        </tr>\n",
              "        <tr>\n",
              "            <td>103</td>\n",
              "            <td>17.549999999999997</td>\n",
              "        </tr>\n",
              "        <tr>\n",
              "            <td>104</td>\n",
              "            <td>10.0</td>\n",
              "        </tr>\n",
              "        <tr>\n",
              "            <td>105</td>\n",
              "            <td>25.0</td>\n",
              "        </tr>\n",
              "    </tbody>\n",
              "</table>"
            ]
          },
          "metadata": {},
          "execution_count": 12
        }
      ]
    },
    {
      "cell_type": "code",
      "source": [
        "#5. What was the difference between the longest and shortest delivery times for all orders?\n",
        "%%sql\n",
        "with time_taken as(\n",
        "  select customer_orders.order_id,\n",
        "  julianday(runner_orders.pickup_time) - julianday(customer_orders.order_time) *1440 AS time_taken_minutes\n",
        "  from customer_orders\n",
        "  join\n",
        "  runner_orders\n",
        "  on customer_orders.order_id = runner_orders.order_id\n",
        ")\n",
        "select MAX(time_taken_minutes) - MIN(time_taken_minutes) as diff_time\n",
        "from time_taken;"
      ],
      "metadata": {
        "colab": {
          "base_uri": "https://localhost:8080/",
          "height": 97
        },
        "id": "YoP-p2aX5Zy8",
        "outputId": "57f50579-e271-4130-ac6d-5f91dda4f29c"
      },
      "execution_count": 18,
      "outputs": [
        {
          "output_type": "stream",
          "name": "stdout",
          "text": [
            " * sqlite://\n",
            "Done.\n"
          ]
        },
        {
          "output_type": "execute_result",
          "data": {
            "text/plain": [
              "[(14419.759190559387,)]"
            ],
            "text/html": [
              "<table>\n",
              "    <thead>\n",
              "        <tr>\n",
              "            <th>diff_time</th>\n",
              "        </tr>\n",
              "    </thead>\n",
              "    <tbody>\n",
              "        <tr>\n",
              "            <td>14419.759190559387</td>\n",
              "        </tr>\n",
              "    </tbody>\n",
              "</table>"
            ]
          },
          "metadata": {},
          "execution_count": 18
        }
      ]
    },
    {
      "cell_type": "code",
      "source": [
        "#6.What was the average speed for each runner for each delivery and do you notice any trend for these values?\n",
        "%%sql\n",
        "WITH time_taken AS (\n",
        "  SELECT\n",
        "    customer_orders.order_id,\n",
        "    runner_orders.runner_id,\n",
        "    runner_orders.duration / 60.0 AS duration_hours,\n",
        "    runner_orders.distance\n",
        "  FROM\n",
        "    customer_orders\n",
        "  JOIN\n",
        "    runner_orders\n",
        "  ON customer_orders.order_id = runner_orders.order_id\n",
        ")\n",
        "SELECT\n",
        "  runner_id,\n",
        "  AVG(distance / duration_hours) AS avg_speed\n",
        "FROM time_taken\n",
        "GROUP BY runner_id\n",
        "ORDER BY runner_id;"
      ],
      "metadata": {
        "colab": {
          "base_uri": "https://localhost:8080/",
          "height": 140
        },
        "id": "e5TqU71u8tOj",
        "outputId": "a8cf8a34-cd54-4a19-bf6d-75b0db0e1880"
      },
      "execution_count": 28,
      "outputs": [
        {
          "output_type": "stream",
          "name": "stdout",
          "text": [
            " * sqlite://\n",
            "Done.\n"
          ]
        },
        {
          "output_type": "execute_result",
          "data": {
            "text/plain": [
              "[(1, 47.0574074074074), (2, 51.779999999999994), (3, 40.0)]"
            ],
            "text/html": [
              "<table>\n",
              "    <thead>\n",
              "        <tr>\n",
              "            <th>runner_id</th>\n",
              "            <th>avg_speed</th>\n",
              "        </tr>\n",
              "    </thead>\n",
              "    <tbody>\n",
              "        <tr>\n",
              "            <td>1</td>\n",
              "            <td>47.0574074074074</td>\n",
              "        </tr>\n",
              "        <tr>\n",
              "            <td>2</td>\n",
              "            <td>51.779999999999994</td>\n",
              "        </tr>\n",
              "        <tr>\n",
              "            <td>3</td>\n",
              "            <td>40.0</td>\n",
              "        </tr>\n",
              "    </tbody>\n",
              "</table>"
            ]
          },
          "metadata": {},
          "execution_count": 28
        }
      ]
    },
    {
      "cell_type": "code",
      "source": [
        "#7. What is the successful delivery percentage for each runner?\n",
        "%%sql\n",
        "WITH succ_delivery AS (\n",
        "  SELECT\n",
        "    runner_orders.order_id,\n",
        "    runner_orders.runner_id\n",
        "  FROM runner_orders\n",
        "  WHERE runner_orders.cancellation IS NULL or runner_orders.cancellation = ''\n",
        "),\n",
        "total_orders AS (\n",
        "  SELECT COUNT(order_id) AS total_count\n",
        "  FROM runner_orders\n",
        ")\n",
        "SELECT\n",
        "  runner_id,\n",
        "  COUNT(order_id) AS total_successful_orders,\n",
        "  (COUNT(order_id) * 100.0 / (SELECT total_count FROM total_orders)) AS successful_delivery_percentage\n",
        "FROM succ_delivery\n",
        "GROUP BY runner_id;\n"
      ],
      "metadata": {
        "colab": {
          "base_uri": "https://localhost:8080/",
          "height": 140
        },
        "id": "YUOcxu4-_bdX",
        "outputId": "bf94eae1-ddd7-43d8-83f7-9813be3c1b10"
      },
      "execution_count": 32,
      "outputs": [
        {
          "output_type": "stream",
          "name": "stdout",
          "text": [
            " * sqlite://\n",
            "Done.\n"
          ]
        },
        {
          "output_type": "execute_result",
          "data": {
            "text/plain": [
              "[(1, 3, 30.0), (2, 1, 10.0), (3, 1, 10.0)]"
            ],
            "text/html": [
              "<table>\n",
              "    <thead>\n",
              "        <tr>\n",
              "            <th>runner_id</th>\n",
              "            <th>total_successful_orders</th>\n",
              "            <th>successful_delivery_percentage</th>\n",
              "        </tr>\n",
              "    </thead>\n",
              "    <tbody>\n",
              "        <tr>\n",
              "            <td>1</td>\n",
              "            <td>3</td>\n",
              "            <td>30.0</td>\n",
              "        </tr>\n",
              "        <tr>\n",
              "            <td>2</td>\n",
              "            <td>1</td>\n",
              "            <td>10.0</td>\n",
              "        </tr>\n",
              "        <tr>\n",
              "            <td>3</td>\n",
              "            <td>1</td>\n",
              "            <td>10.0</td>\n",
              "        </tr>\n",
              "    </tbody>\n",
              "</table>"
            ]
          },
          "metadata": {},
          "execution_count": 32
        }
      ]
    }
  ]
}